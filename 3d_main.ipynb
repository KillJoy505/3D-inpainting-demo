{
 "cells": [
  {
   "cell_type": "markdown",
   "metadata": {
    "colab_type": "text",
    "id": "LPQ0EWxgvMIc"
   },
   "source": [
    "- **Prepare environment**\n"
   ]
  },
  {
   "cell_type": "code",
   "execution_count": 1,
   "metadata": {
    "colab": {
     "base_uri": "https://localhost:8080/",
     "height": 336
    },
    "colab_type": "code",
    "id": "_Trk4sRBY0bB",
    "outputId": "27f52dc1-3dcf-46ea-d37c-a79559b3fbdf"
   },
   "outputs": [
    {
     "name": "stdout",
     "output_type": "stream",
     "text": [
      "Requirement already satisfied: opencv-python==4.2.0.32 in /usr/local/lib/python3.6/dist-packages (from -r requirements.txt (line 1)) (4.2.0.32)\n",
      "Requirement already satisfied: vispy==0.6.4 in /usr/local/lib/python3.6/dist-packages (from -r requirements.txt (line 2)) (0.6.4)\n",
      "Requirement already satisfied: moviepy==1.0.2 in /usr/local/lib/python3.6/dist-packages (from -r requirements.txt (line 3)) (1.0.2)\n",
      "Requirement already satisfied: transforms3d==0.3.1 in /usr/local/lib/python3.6/dist-packages (from -r requirements.txt (line 4)) (0.3.1)\n",
      "Requirement already satisfied: networkx==2.3 in /usr/local/lib/python3.6/dist-packages (from -r requirements.txt (line 5)) (2.3)\n",
      "Requirement already satisfied: numpy>=1.11.3 in /usr/local/lib/python3.6/dist-packages (from opencv-python==4.2.0.32->-r requirements.txt (line 1)) (1.18.2)\n",
      "Requirement already satisfied: freetype-py in /usr/local/lib/python3.6/dist-packages (from vispy==0.6.4->-r requirements.txt (line 2)) (2.1.0.post1)\n",
      "Requirement already satisfied: tqdm<5.0,>=4.11.2 in /usr/local/lib/python3.6/dist-packages (from moviepy==1.0.2->-r requirements.txt (line 3)) (4.38.0)\n",
      "Requirement already satisfied: decorator<5.0,>=4.0.2 in /usr/local/lib/python3.6/dist-packages (from moviepy==1.0.2->-r requirements.txt (line 3)) (4.4.2)\n",
      "Requirement already satisfied: requests<3.0,>=2.8.1 in /usr/local/lib/python3.6/dist-packages (from moviepy==1.0.2->-r requirements.txt (line 3)) (2.21.0)\n",
      "Requirement already satisfied: imageio-ffmpeg>=0.2.0; python_version >= \"3.4\" in /usr/local/lib/python3.6/dist-packages (from moviepy==1.0.2->-r requirements.txt (line 3)) (0.4.1)\n",
      "Requirement already satisfied: imageio<3.0,>=2.5; python_version >= \"3.4\" in /usr/local/lib/python3.6/dist-packages (from moviepy==1.0.2->-r requirements.txt (line 3)) (2.8.0)\n",
      "Requirement already satisfied: proglog<=1.0.0 in /usr/local/lib/python3.6/dist-packages (from moviepy==1.0.2->-r requirements.txt (line 3)) (0.1.9)\n",
      "Requirement already satisfied: urllib3<1.25,>=1.21.1 in /usr/local/lib/python3.6/dist-packages (from requests<3.0,>=2.8.1->moviepy==1.0.2->-r requirements.txt (line 3)) (1.24.3)\n",
      "Requirement already satisfied: certifi>=2017.4.17 in /usr/local/lib/python3.6/dist-packages (from requests<3.0,>=2.8.1->moviepy==1.0.2->-r requirements.txt (line 3)) (2020.4.5.1)\n",
      "Requirement already satisfied: idna<2.9,>=2.5 in /usr/local/lib/python3.6/dist-packages (from requests<3.0,>=2.8.1->moviepy==1.0.2->-r requirements.txt (line 3)) (2.8)\n",
      "Requirement already satisfied: chardet<3.1.0,>=3.0.2 in /usr/local/lib/python3.6/dist-packages (from requests<3.0,>=2.8.1->moviepy==1.0.2->-r requirements.txt (line 3)) (3.0.4)\n",
      "Requirement already satisfied: pillow in /usr/local/lib/python3.6/dist-packages (from imageio<3.0,>=2.5; python_version >= \"3.4\"->moviepy==1.0.2->-r requirements.txt (line 3)) (7.0.0)\n"
     ]
    }
   ],
   "source": [
    "!pip install -r requirements.txt"
   ]
  },
  {
   "cell_type": "code",
   "execution_count": 2,
   "metadata": {
    "colab": {
     "base_uri": "https://localhost:8080/",
     "height": 123
    },
    "colab_type": "code",
    "id": "8wXFZLubZcgl",
    "outputId": "9f18d64f-137d-48a6-f163-735000b9ffe1"
   },
   "outputs": [
    {
     "name": "stdout",
     "output_type": "stream",
     "text": [
      "Looking in links: https://download.pytorch.org/whl/torch_stable.html\n",
      "Requirement already satisfied: torch==1.4.0+cu100 in /usr/local/lib/python3.6/dist-packages (1.4.0+cu100)\n",
      "Requirement already satisfied: torchvision==0.5.0+cu100 in /usr/local/lib/python3.6/dist-packages (0.5.0+cu100)\n",
      "Requirement already satisfied: pillow>=4.1.1 in /usr/local/lib/python3.6/dist-packages (from torchvision==0.5.0+cu100) (7.0.0)\n",
      "Requirement already satisfied: numpy in /usr/local/lib/python3.6/dist-packages (from torchvision==0.5.0+cu100) (1.18.2)\n",
      "Requirement already satisfied: six in /usr/local/lib/python3.6/dist-packages (from torchvision==0.5.0+cu100) (1.12.0)\n"
     ]
    }
   ],
   "source": [
    "!pip install torch==1.4.0+cu100 torchvision==0.5.0+cu100 -f https://download.pytorch.org/whl/torch_stable.html"
   ]
  },
  {
   "cell_type": "code",
   "execution_count": 3,
   "metadata": {
    "colab": {
     "base_uri": "https://localhost:8080/",
     "height": 105
    },
    "colab_type": "code",
    "id": "D4FtZT-4aITi",
    "outputId": "19e4dc13-cc43-42a5-c6ff-ee52c38df63c"
   },
   "outputs": [
    {
     "name": "stdout",
     "output_type": "stream",
     "text": [
      "Reading package lists... Done\n",
      "Building dependency tree       \n",
      "Reading state information... Done\n",
      "sed is already the newest version (4.4-2).\n",
      "0 upgraded, 0 newly installed, 0 to remove and 25 not upgraded.\n"
     ]
    }
   ],
   "source": [
    "!sudo apt install sed"
   ]
  },
  {
   "cell_type": "markdown",
   "metadata": {
    "colab_type": "text",
    "id": "c-g7AeLMvY0R"
   },
   "source": [
    "- **Download script and pretrained model**\n"
   ]
  },
  {
   "cell_type": "code",
   "execution_count": 4,
   "metadata": {
    "colab": {
     "base_uri": "https://localhost:8080/",
     "height": 34
    },
    "colab_type": "code",
    "id": "lDpA63CmabyR",
    "outputId": "713c9715-df5e-4762-b171-8265bcb6b55f"
   },
   "outputs": [
    {
     "data": {
      "text/plain": [
       "'\\n%cd /content/\\n!git clone https://github.com/vt-vl-lab/3d-photo-inpainting.git\\n%cd 3d-photo-inpainting\\n!sh download.sh\\n'"
      ]
     },
     "execution_count": 4,
     "metadata": {
      "tags": []
     },
     "output_type": "execute_result"
    }
   ],
   "source": [
    "\"\"\"\n",
    "%cd /content/\n",
    "!git clone https://github.com/vt-vl-lab/3d-photo-inpainting.git\n",
    "%cd 3d-photo-inpainting\n",
    "!sh download.sh\n",
    "\"\"\""
   ]
  },
  {
   "cell_type": "markdown",
   "metadata": {
    "colab_type": "text",
    "id": "D_Fg_aMeDnmd"
   },
   "source": [
    "- **Switch off off-screen rendering**"
   ]
  },
  {
   "cell_type": "code",
   "execution_count": 5,
   "metadata": {
    "colab": {
     "base_uri": "https://localhost:8080/",
     "height": 34
    },
    "colab_type": "code",
    "id": "J9Z1KDLG8K2V",
    "outputId": "088cb2b4-9f9d-4544-c75f-307f8dba166e"
   },
   "outputs": [
    {
     "name": "stdout",
     "output_type": "stream",
     "text": [
      "3d-photo-inpainting  requirements.txt  sample_data\n"
     ]
    }
   ],
   "source": [
    "!ls"
   ]
  },
  {
   "cell_type": "code",
   "execution_count": 0,
   "metadata": {
    "colab": {},
    "colab_type": "code",
    "id": "gLoq29efaopH"
   },
   "outputs": [],
   "source": [
    "!sed -i 's/offscreen_rendering: True/offscreen_rendering: False/g' 3d-photo-inpainting/argument.yml"
   ]
  },
  {
   "cell_type": "markdown",
   "metadata": {
    "colab_type": "text",
    "id": "cCN8L7GiDpZA"
   },
   "source": [
    "- **Please upload `.jpg` files to `/content/3d-photo-inpainting-master/image/`**\n",
    "  - You can run this step multiple times to upload multiple `.jpg` files."
   ]
  },
  {
   "cell_type": "code",
   "execution_count": 7,
   "metadata": {
    "colab": {
     "base_uri": "https://localhost:8080/",
     "height": 34
    },
    "colab_type": "code",
    "id": "p1RS7Cqu8Rni",
    "outputId": "198714aa-9e6d-45e1-be99-837782dcfc14"
   },
   "outputs": [
    {
     "name": "stdout",
     "output_type": "stream",
     "text": [
      "3d-photo-inpainting  requirements.txt  sample_data\n"
     ]
    }
   ],
   "source": [
    "!ls"
   ]
  },
  {
   "cell_type": "code",
   "execution_count": 8,
   "metadata": {
    "colab": {
     "base_uri": "https://localhost:8080/",
     "height": 127,
     "resources": {
      "http://localhost:8080/nbextensions/google.colab/files.js": {
       "data": "Ly8gQ29weXJpZ2h0IDIwMTcgR29vZ2xlIExMQwovLwovLyBMaWNlbnNlZCB1bmRlciB0aGUgQXBhY2hlIExpY2Vuc2UsIFZlcnNpb24gMi4wICh0aGUgIkxpY2Vuc2UiKTsKLy8geW91IG1heSBub3QgdXNlIHRoaXMgZmlsZSBleGNlcHQgaW4gY29tcGxpYW5jZSB3aXRoIHRoZSBMaWNlbnNlLgovLyBZb3UgbWF5IG9idGFpbiBhIGNvcHkgb2YgdGhlIExpY2Vuc2UgYXQKLy8KLy8gICAgICBodHRwOi8vd3d3LmFwYWNoZS5vcmcvbGljZW5zZXMvTElDRU5TRS0yLjAKLy8KLy8gVW5sZXNzIHJlcXVpcmVkIGJ5IGFwcGxpY2FibGUgbGF3IG9yIGFncmVlZCB0byBpbiB3cml0aW5nLCBzb2Z0d2FyZQovLyBkaXN0cmlidXRlZCB1bmRlciB0aGUgTGljZW5zZSBpcyBkaXN0cmlidXRlZCBvbiBhbiAiQVMgSVMiIEJBU0lTLAovLyBXSVRIT1VUIFdBUlJBTlRJRVMgT1IgQ09ORElUSU9OUyBPRiBBTlkgS0lORCwgZWl0aGVyIGV4cHJlc3Mgb3IgaW1wbGllZC4KLy8gU2VlIHRoZSBMaWNlbnNlIGZvciB0aGUgc3BlY2lmaWMgbGFuZ3VhZ2UgZ292ZXJuaW5nIHBlcm1pc3Npb25zIGFuZAovLyBsaW1pdGF0aW9ucyB1bmRlciB0aGUgTGljZW5zZS4KCi8qKgogKiBAZmlsZW92ZXJ2aWV3IEhlbHBlcnMgZm9yIGdvb2dsZS5jb2xhYiBQeXRob24gbW9kdWxlLgogKi8KKGZ1bmN0aW9uKHNjb3BlKSB7CmZ1bmN0aW9uIHNwYW4odGV4dCwgc3R5bGVBdHRyaWJ1dGVzID0ge30pIHsKICBjb25zdCBlbGVtZW50ID0gZG9jdW1lbnQuY3JlYXRlRWxlbWVudCgnc3BhbicpOwogIGVsZW1lbnQudGV4dENvbnRlbnQgPSB0ZXh0OwogIGZvciAoY29uc3Qga2V5IG9mIE9iamVjdC5rZXlzKHN0eWxlQXR0cmlidXRlcykpIHsKICAgIGVsZW1lbnQuc3R5bGVba2V5XSA9IHN0eWxlQXR0cmlidXRlc1trZXldOwogIH0KICByZXR1cm4gZWxlbWVudDsKfQoKLy8gTWF4IG51bWJlciBvZiBieXRlcyB3aGljaCB3aWxsIGJlIHVwbG9hZGVkIGF0IGEgdGltZS4KY29uc3QgTUFYX1BBWUxPQURfU0laRSA9IDEwMCAqIDEwMjQ7Ci8vIE1heCBhbW91bnQgb2YgdGltZSB0byBibG9jayB3YWl0aW5nIGZvciB0aGUgdXNlci4KY29uc3QgRklMRV9DSEFOR0VfVElNRU9VVF9NUyA9IDMwICogMTAwMDsKCmZ1bmN0aW9uIF91cGxvYWRGaWxlcyhpbnB1dElkLCBvdXRwdXRJZCkgewogIGNvbnN0IHN0ZXBzID0gdXBsb2FkRmlsZXNTdGVwKGlucHV0SWQsIG91dHB1dElkKTsKICBjb25zdCBvdXRwdXRFbGVtZW50ID0gZG9jdW1lbnQuZ2V0RWxlbWVudEJ5SWQob3V0cHV0SWQpOwogIC8vIENhY2hlIHN0ZXBzIG9uIHRoZSBvdXRwdXRFbGVtZW50IHRvIG1ha2UgaXQgYXZhaWxhYmxlIGZvciB0aGUgbmV4dCBjYWxsCiAgLy8gdG8gdXBsb2FkRmlsZXNDb250aW51ZSBmcm9tIFB5dGhvbi4KICBvdXRwdXRFbGVtZW50LnN0ZXBzID0gc3RlcHM7CgogIHJldHVybiBfdXBsb2FkRmlsZXNDb250aW51ZShvdXRwdXRJZCk7Cn0KCi8vIFRoaXMgaXMgcm91Z2hseSBhbiBhc3luYyBnZW5lcmF0b3IgKG5vdCBzdXBwb3J0ZWQgaW4gdGhlIGJyb3dzZXIgeWV0KSwKLy8gd2hlcmUgdGhlcmUgYXJlIG11bHRpcGxlIGFzeW5jaHJvbm91cyBzdGVwcyBhbmQgdGhlIFB5dGhvbiBzaWRlIGlzIGdvaW5nCi8vIHRvIHBvbGwgZm9yIGNvbXBsZXRpb24gb2YgZWFjaCBzdGVwLgovLyBUaGlzIHVzZXMgYSBQcm9taXNlIHRvIGJsb2NrIHRoZSBweXRob24gc2lkZSBvbiBjb21wbGV0aW9uIG9mIGVhY2ggc3RlcCwKLy8gdGhlbiBwYXNzZXMgdGhlIHJlc3VsdCBvZiB0aGUgcHJldmlvdXMgc3RlcCBhcyB0aGUgaW5wdXQgdG8gdGhlIG5leHQgc3RlcC4KZnVuY3Rpb24gX3VwbG9hZEZpbGVzQ29udGludWUob3V0cHV0SWQpIHsKICBjb25zdCBvdXRwdXRFbGVtZW50ID0gZG9jdW1lbnQuZ2V0RWxlbWVudEJ5SWQob3V0cHV0SWQpOwogIGNvbnN0IHN0ZXBzID0gb3V0cHV0RWxlbWVudC5zdGVwczsKCiAgY29uc3QgbmV4dCA9IHN0ZXBzLm5leHQob3V0cHV0RWxlbWVudC5sYXN0UHJvbWlzZVZhbHVlKTsKICByZXR1cm4gUHJvbWlzZS5yZXNvbHZlKG5leHQudmFsdWUucHJvbWlzZSkudGhlbigodmFsdWUpID0+IHsKICAgIC8vIENhY2hlIHRoZSBsYXN0IHByb21pc2UgdmFsdWUgdG8gbWFrZSBpdCBhdmFpbGFibGUgdG8gdGhlIG5leHQKICAgIC8vIHN0ZXAgb2YgdGhlIGdlbmVyYXRvci4KICAgIG91dHB1dEVsZW1lbnQubGFzdFByb21pc2VWYWx1ZSA9IHZhbHVlOwogICAgcmV0dXJuIG5leHQudmFsdWUucmVzcG9uc2U7CiAgfSk7Cn0KCi8qKgogKiBHZW5lcmF0b3IgZnVuY3Rpb24gd2hpY2ggaXMgY2FsbGVkIGJldHdlZW4gZWFjaCBhc3luYyBzdGVwIG9mIHRoZSB1cGxvYWQKICogcHJvY2Vzcy4KICogQHBhcmFtIHtzdHJpbmd9IGlucHV0SWQgRWxlbWVudCBJRCBvZiB0aGUgaW5wdXQgZmlsZSBwaWNrZXIgZWxlbWVudC4KICogQHBhcmFtIHtzdHJpbmd9IG91dHB1dElkIEVsZW1lbnQgSUQgb2YgdGhlIG91dHB1dCBkaXNwbGF5LgogKiBAcmV0dXJuIHshSXRlcmFibGU8IU9iamVjdD59IEl0ZXJhYmxlIG9mIG5leHQgc3RlcHMuCiAqLwpmdW5jdGlvbiogdXBsb2FkRmlsZXNTdGVwKGlucHV0SWQsIG91dHB1dElkKSB7CiAgY29uc3QgaW5wdXRFbGVtZW50ID0gZG9jdW1lbnQuZ2V0RWxlbWVudEJ5SWQoaW5wdXRJZCk7CiAgaW5wdXRFbGVtZW50LmRpc2FibGVkID0gZmFsc2U7CgogIGNvbnN0IG91dHB1dEVsZW1lbnQgPSBkb2N1bWVudC5nZXRFbGVtZW50QnlJZChvdXRwdXRJZCk7CiAgb3V0cHV0RWxlbWVudC5pbm5lckhUTUwgPSAnJzsKCiAgY29uc3QgcGlja2VkUHJvbWlzZSA9IG5ldyBQcm9taXNlKChyZXNvbHZlKSA9PiB7CiAgICBpbnB1dEVsZW1lbnQuYWRkRXZlbnRMaXN0ZW5lcignY2hhbmdlJywgKGUpID0+IHsKICAgICAgcmVzb2x2ZShlLnRhcmdldC5maWxlcyk7CiAgICB9KTsKICB9KTsKCiAgY29uc3QgY2FuY2VsID0gZG9jdW1lbnQuY3JlYXRlRWxlbWVudCgnYnV0dG9uJyk7CiAgaW5wdXRFbGVtZW50LnBhcmVudEVsZW1lbnQuYXBwZW5kQ2hpbGQoY2FuY2VsKTsKICBjYW5jZWwudGV4dENvbnRlbnQgPSAnQ2FuY2VsIHVwbG9hZCc7CiAgY29uc3QgY2FuY2VsUHJvbWlzZSA9IG5ldyBQcm9taXNlKChyZXNvbHZlKSA9PiB7CiAgICBjYW5jZWwub25jbGljayA9ICgpID0+IHsKICAgICAgcmVzb2x2ZShudWxsKTsKICAgIH07CiAgfSk7CgogIC8vIENhbmNlbCB1cGxvYWQgaWYgdXNlciBoYXNuJ3QgcGlja2VkIGFueXRoaW5nIGluIHRpbWVvdXQuCiAgY29uc3QgdGltZW91dFByb21pc2UgPSBuZXcgUHJvbWlzZSgocmVzb2x2ZSkgPT4gewogICAgc2V0VGltZW91dCgoKSA9PiB7CiAgICAgIHJlc29sdmUobnVsbCk7CiAgICB9LCBGSUxFX0NIQU5HRV9USU1FT1VUX01TKTsKICB9KTsKCiAgLy8gV2FpdCBmb3IgdGhlIHVzZXIgdG8gcGljayB0aGUgZmlsZXMuCiAgY29uc3QgZmlsZXMgPSB5aWVsZCB7CiAgICBwcm9taXNlOiBQcm9taXNlLnJhY2UoW3BpY2tlZFByb21pc2UsIHRpbWVvdXRQcm9taXNlLCBjYW5jZWxQcm9taXNlXSksCiAgICByZXNwb25zZTogewogICAgICBhY3Rpb246ICdzdGFydGluZycsCiAgICB9CiAgfTsKCiAgaWYgKCFmaWxlcykgewogICAgcmV0dXJuIHsKICAgICAgcmVzcG9uc2U6IHsKICAgICAgICBhY3Rpb246ICdjb21wbGV0ZScsCiAgICAgIH0KICAgIH07CiAgfQoKICBjYW5jZWwucmVtb3ZlKCk7CgogIC8vIERpc2FibGUgdGhlIGlucHV0IGVsZW1lbnQgc2luY2UgZnVydGhlciBwaWNrcyBhcmUgbm90IGFsbG93ZWQuCiAgaW5wdXRFbGVtZW50LmRpc2FibGVkID0gdHJ1ZTsKCiAgZm9yIChjb25zdCBmaWxlIG9mIGZpbGVzKSB7CiAgICBjb25zdCBsaSA9IGRvY3VtZW50LmNyZWF0ZUVsZW1lbnQoJ2xpJyk7CiAgICBsaS5hcHBlbmQoc3BhbihmaWxlLm5hbWUsIHtmb250V2VpZ2h0OiAnYm9sZCd9KSk7CiAgICBsaS5hcHBlbmQoc3BhbigKICAgICAgICBgKCR7ZmlsZS50eXBlIHx8ICduL2EnfSkgLSAke2ZpbGUuc2l6ZX0gYnl0ZXMsIGAgKwogICAgICAgIGBsYXN0IG1vZGlmaWVkOiAkewogICAgICAgICAgICBmaWxlLmxhc3RNb2RpZmllZERhdGUgPyBmaWxlLmxhc3RNb2RpZmllZERhdGUudG9Mb2NhbGVEYXRlU3RyaW5nKCkgOgogICAgICAgICAgICAgICAgICAgICAgICAgICAgICAgICAgICAnbi9hJ30gLSBgKSk7CiAgICBjb25zdCBwZXJjZW50ID0gc3BhbignMCUgZG9uZScpOwogICAgbGkuYXBwZW5kQ2hpbGQocGVyY2VudCk7CgogICAgb3V0cHV0RWxlbWVudC5hcHBlbmRDaGlsZChsaSk7CgogICAgY29uc3QgZmlsZURhdGFQcm9taXNlID0gbmV3IFByb21pc2UoKHJlc29sdmUpID0+IHsKICAgICAgY29uc3QgcmVhZGVyID0gbmV3IEZpbGVSZWFkZXIoKTsKICAgICAgcmVhZGVyLm9ubG9hZCA9IChlKSA9PiB7CiAgICAgICAgcmVzb2x2ZShlLnRhcmdldC5yZXN1bHQpOwogICAgICB9OwogICAgICByZWFkZXIucmVhZEFzQXJyYXlCdWZmZXIoZmlsZSk7CiAgICB9KTsKICAgIC8vIFdhaXQgZm9yIHRoZSBkYXRhIHRvIGJlIHJlYWR5LgogICAgbGV0IGZpbGVEYXRhID0geWllbGQgewogICAgICBwcm9taXNlOiBmaWxlRGF0YVByb21pc2UsCiAgICAgIHJlc3BvbnNlOiB7CiAgICAgICAgYWN0aW9uOiAnY29udGludWUnLAogICAgICB9CiAgICB9OwoKICAgIC8vIFVzZSBhIGNodW5rZWQgc2VuZGluZyB0byBhdm9pZCBtZXNzYWdlIHNpemUgbGltaXRzLiBTZWUgYi82MjExNTY2MC4KICAgIGxldCBwb3NpdGlvbiA9IDA7CiAgICB3aGlsZSAocG9zaXRpb24gPCBmaWxlRGF0YS5ieXRlTGVuZ3RoKSB7CiAgICAgIGNvbnN0IGxlbmd0aCA9IE1hdGgubWluKGZpbGVEYXRhLmJ5dGVMZW5ndGggLSBwb3NpdGlvbiwgTUFYX1BBWUxPQURfU0laRSk7CiAgICAgIGNvbnN0IGNodW5rID0gbmV3IFVpbnQ4QXJyYXkoZmlsZURhdGEsIHBvc2l0aW9uLCBsZW5ndGgpOwogICAgICBwb3NpdGlvbiArPSBsZW5ndGg7CgogICAgICBjb25zdCBiYXNlNjQgPSBidG9hKFN0cmluZy5mcm9tQ2hhckNvZGUuYXBwbHkobnVsbCwgY2h1bmspKTsKICAgICAgeWllbGQgewogICAgICAgIHJlc3BvbnNlOiB7CiAgICAgICAgICBhY3Rpb246ICdhcHBlbmQnLAogICAgICAgICAgZmlsZTogZmlsZS5uYW1lLAogICAgICAgICAgZGF0YTogYmFzZTY0LAogICAgICAgIH0sCiAgICAgIH07CiAgICAgIHBlcmNlbnQudGV4dENvbnRlbnQgPQogICAgICAgICAgYCR7TWF0aC5yb3VuZCgocG9zaXRpb24gLyBmaWxlRGF0YS5ieXRlTGVuZ3RoKSAqIDEwMCl9JSBkb25lYDsKICAgIH0KICB9CgogIC8vIEFsbCBkb25lLgogIHlpZWxkIHsKICAgIHJlc3BvbnNlOiB7CiAgICAgIGFjdGlvbjogJ2NvbXBsZXRlJywKICAgIH0KICB9Owp9CgpzY29wZS5nb29nbGUgPSBzY29wZS5nb29nbGUgfHwge307CnNjb3BlLmdvb2dsZS5jb2xhYiA9IHNjb3BlLmdvb2dsZS5jb2xhYiB8fCB7fTsKc2NvcGUuZ29vZ2xlLmNvbGFiLl9maWxlcyA9IHsKICBfdXBsb2FkRmlsZXMsCiAgX3VwbG9hZEZpbGVzQ29udGludWUsCn07Cn0pKHNlbGYpOwo=",
       "headers": [
        [
         "content-type",
         "application/javascript"
        ]
       ],
       "ok": true,
       "status": 200,
       "status_text": ""
      }
     }
    },
    "colab_type": "code",
    "id": "JUBZ0Sgsaspw",
    "outputId": "31c1b79e-1863-4287-c042-5a3b4e99a206"
   },
   "outputs": [
    {
     "name": "stdout",
     "output_type": "stream",
     "text": [
      "/content/3d-photo-inpainting/image\n"
     ]
    },
    {
     "data": {
      "text/html": [
       "\n",
       "     <input type=\"file\" id=\"files-717d2bb0-6717-49a3-be58-905d65a60ea6\" name=\"files[]\" multiple disabled />\n",
       "     <output id=\"result-717d2bb0-6717-49a3-be58-905d65a60ea6\">\n",
       "      Upload widget is only available when the cell has been executed in the\n",
       "      current browser session. Please rerun this cell to enable.\n",
       "      </output>\n",
       "      <script src=\"/nbextensions/google.colab/files.js\"></script> "
      ],
      "text/plain": [
       "<IPython.core.display.HTML object>"
      ]
     },
     "metadata": {
      "tags": []
     },
     "output_type": "display_data"
    },
    {
     "name": "stdout",
     "output_type": "stream",
     "text": [
      "Saving a.jpg to a (1).jpg\n",
      "User uploaded file \"a.jpg\" with length 87394 bytes\n",
      "/content/3d-photo-inpainting\n"
     ]
    }
   ],
   "source": [
    "%cd 3d-photo-inpainting/image\n",
    "from google.colab import files\n",
    "uploaded = files.upload()\n",
    "for fn in uploaded.keys():\n",
    "  print('User uploaded file \"{name}\" with length {length} bytes'.format(\n",
    "      name = fn, length = len(uploaded[fn])))\n",
    "%cd .."
   ]
  },
  {
   "cell_type": "code",
   "execution_count": 9,
   "metadata": {
    "colab": {
     "base_uri": "https://localhost:8080/",
     "height": 87
    },
    "colab_type": "code",
    "id": "Lel29ydu8cNM",
    "outputId": "88328826-981d-464b-c589-c60af3de252f"
   },
   "outputs": [
    {
     "name": "stdout",
     "output_type": "stream",
     "text": [
      "a.jpg\t      DOCUMENTATION.md\tmain.py        misc\t    requirements.txt\n",
      "argument.yml  download.sh\tmesh.py        networks.py  utils.py\n",
      "checkpoints   image\t\tmesh_tools.py  __pycache__  video\n",
      "depth\t      LICENSE\t\tMiDaS\t       README.md\n"
     ]
    }
   ],
   "source": [
    "!ls"
   ]
  },
  {
   "cell_type": "markdown",
   "metadata": {
    "colab_type": "text",
    "id": "wyLFopwVDzUg"
   },
   "source": [
    "- **Execute the 3D Photo Inpainting**"
   ]
  },
  {
   "cell_type": "code",
   "execution_count": 10,
   "metadata": {
    "colab": {
     "base_uri": "https://localhost:8080/",
     "height": 1000
    },
    "colab_type": "code",
    "id": "OXzrx2P31t_s",
    "outputId": "bf067dfc-cdc9-421e-fd2c-a4cbccfd92ca"
   },
   "outputs": [
    {
     "name": "stdout",
     "output_type": "stream",
     "text": [
      "\r",
      "  0% 0/1 [00:00<?, ?it/s]Current Source ==>  a\n",
      "initialize\n",
      "device: cpu\n",
      "start processing\n",
      "  processing image/a.jpg (1/1)\n",
      "torch.Size([1, 3, 384, 384])\n",
      "finished\n",
      "Start Running 3D_Photo ...\n",
      "Writing mesh file mesh/a.ply ...\n",
      "53.13010235415598\n",
      "Moviepy - Building video video/a_dolly-zoom-in.mp4.\n",
      "Moviepy - Writing video video/a_dolly-zoom-in.mp4\n",
      "\n",
      "  0% 0/1 [03:44<?, ?it/s]\n",
      "t:   0% 0/241 [00:00<?, ?it/s, now=None]\u001b[A\n",
      "t:   1% 2/241 [00:00<00:15, 15.58it/s, now=None]\u001b[A\n",
      "t:   1% 3/241 [00:00<00:22, 10.43it/s, now=None]\u001b[A\n",
      "t:   6% 14/241 [00:00<00:15, 14.31it/s, now=None]\u001b[A\n",
      "t:  11% 26/241 [00:00<00:11, 19.40it/s, now=None]\u001b[A\n",
      "t:  15% 36/241 [00:00<00:08, 25.54it/s, now=None]\u001b[A\n",
      "t:  19% 46/241 [00:00<00:05, 32.74it/s, now=None]\u001b[A\n",
      "t:  22% 54/241 [00:01<00:06, 30.01it/s, now=None]\u001b[A\n",
      "t:  25% 61/241 [00:01<00:06, 29.22it/s, now=None]\u001b[A\n",
      "t:  28% 67/241 [00:01<00:05, 29.54it/s, now=None]\u001b[A\n",
      "t:  30% 72/241 [00:01<00:05, 29.98it/s, now=None]\u001b[A\n",
      "t:  32% 77/241 [00:01<00:05, 31.19it/s, now=None]\u001b[A\n",
      "t:  34% 81/241 [00:01<00:05, 30.74it/s, now=None]\u001b[A\n",
      "t:  35% 85/241 [00:02<00:05, 30.80it/s, now=None]\u001b[A\n",
      "t:  37% 89/241 [00:02<00:04, 30.95it/s, now=None]\u001b[A\n",
      "t:  39% 93/241 [00:02<00:04, 30.34it/s, now=None]\u001b[A\n",
      "t:  40% 97/241 [00:02<00:04, 31.08it/s, now=None]\u001b[A\n",
      "t:  42% 101/241 [00:02<00:04, 31.82it/s, now=None]\u001b[A\n",
      "t:  44% 105/241 [00:02<00:04, 30.60it/s, now=None]\u001b[A\n",
      "t:  45% 109/241 [00:02<00:04, 29.54it/s, now=None]\u001b[A\n",
      "t:  47% 113/241 [00:02<00:04, 30.05it/s, now=None]\u001b[A\n",
      "t:  49% 117/241 [00:03<00:04, 30.58it/s, now=None]\u001b[A\n",
      "t:  50% 121/241 [00:03<00:03, 30.07it/s, now=None]\u001b[A\n",
      "t:  52% 125/241 [00:03<00:03, 30.47it/s, now=None]\u001b[A\n",
      "t:  54% 129/241 [00:03<00:03, 29.98it/s, now=None]\u001b[A\n",
      "t:  55% 133/241 [00:03<00:03, 29.51it/s, now=None]\u001b[A\n",
      "t:  56% 136/241 [00:03<00:03, 28.95it/s, now=None]\u001b[A\n",
      "t:  58% 139/241 [00:03<00:03, 28.68it/s, now=None]\u001b[A\n",
      "t:  59% 143/241 [00:03<00:03, 29.41it/s, now=None]\u001b[A\n",
      "t:  61% 147/241 [00:04<00:03, 29.30it/s, now=None]\u001b[A\n",
      "t:  63% 151/241 [00:04<00:02, 30.01it/s, now=None]\u001b[A\n",
      "t:  64% 155/241 [00:04<00:02, 28.87it/s, now=None]\u001b[A\n",
      "t:  66% 159/241 [00:04<00:02, 29.23it/s, now=None]\u001b[A\n",
      "t:  68% 163/241 [00:04<00:02, 30.57it/s, now=None]\u001b[A\n",
      "t:  69% 167/241 [00:04<00:02, 30.64it/s, now=None]\u001b[A\n",
      "t:  71% 171/241 [00:04<00:02, 31.49it/s, now=None]\u001b[A\n",
      "t:  73% 175/241 [00:05<00:02, 31.10it/s, now=None]\u001b[A\n",
      "t:  74% 179/241 [00:05<00:01, 31.17it/s, now=None]\u001b[A\n",
      "t:  76% 183/241 [00:05<00:01, 31.20it/s, now=None]\u001b[A\n",
      "t:  78% 187/241 [00:05<00:01, 31.04it/s, now=None]\u001b[A\n",
      "t:  79% 191/241 [00:05<00:01, 30.58it/s, now=None]\u001b[A\n",
      "t:  81% 195/241 [00:05<00:01, 32.16it/s, now=None]\u001b[A\n",
      "t:  83% 199/241 [00:05<00:01, 30.70it/s, now=None]\u001b[A\n",
      "t:  84% 203/241 [00:05<00:01, 31.41it/s, now=None]\u001b[A\n",
      "t:  86% 207/241 [00:06<00:01, 31.23it/s, now=None]\u001b[A\n",
      "t:  88% 211/241 [00:06<00:00, 31.95it/s, now=None]\u001b[A\n",
      "t:  89% 215/241 [00:06<00:00, 32.51it/s, now=None]\u001b[A\n",
      "t:  91% 219/241 [00:06<00:00, 29.46it/s, now=None]\u001b[A\n",
      "t:  93% 223/241 [00:06<00:00, 30.54it/s, now=None]\u001b[A\n",
      "t:  94% 227/241 [00:06<00:00, 30.67it/s, now=None]\u001b[A\n",
      "t:  96% 231/241 [00:06<00:00, 30.87it/s, now=None]\u001b[A\n",
      "t:  98% 235/241 [00:06<00:00, 31.02it/s, now=None]\u001b[A\n",
      "t:  99% 239/241 [00:07<00:00, 31.49it/s, now=None]\u001b[A\n",
      "Moviepy - Done !\n",
      "Moviepy - video ready video/a_dolly-zoom-in.mp4\n",
      "Moviepy - Building video video/a_zoom-in.mp4.\n",
      "Moviepy - Writing video video/a_zoom-in.mp4\n",
      "\n",
      "  0% 0/1 [04:02<?, ?it/s]\n",
      "t:   0% 0/241 [00:00<?, ?it/s, now=None]\u001b[A\n",
      "t:   5% 12/241 [00:00<00:02, 113.12it/s, now=None]\u001b[A\n",
      "t:  11% 26/241 [00:00<00:01, 118.92it/s, now=None]\u001b[A\n",
      "t:  16% 39/241 [00:00<00:01, 121.14it/s, now=None]\u001b[A\n",
      "t:  20% 48/241 [00:00<00:02, 76.66it/s, now=None] \u001b[A\n",
      "t:  23% 56/241 [00:00<00:03, 52.40it/s, now=None]\u001b[A\n",
      "t:  26% 62/241 [00:00<00:04, 44.30it/s, now=None]\u001b[A\n",
      "t:  28% 68/241 [00:01<00:04, 35.79it/s, now=None]\u001b[A\n",
      "t:  30% 73/241 [00:01<00:04, 35.92it/s, now=None]\u001b[A\n",
      "t:  32% 78/241 [00:01<00:04, 33.74it/s, now=None]\u001b[A\n",
      "t:  34% 82/241 [00:01<00:04, 32.97it/s, now=None]\u001b[A\n",
      "t:  36% 86/241 [00:01<00:04, 31.81it/s, now=None]\u001b[A\n",
      "t:  37% 90/241 [00:01<00:04, 30.94it/s, now=None]\u001b[A\n",
      "t:  39% 94/241 [00:02<00:05, 27.97it/s, now=None]\u001b[A\n",
      "t:  41% 98/241 [00:02<00:04, 30.18it/s, now=None]\u001b[A\n",
      "t:  42% 102/241 [00:02<00:04, 28.15it/s, now=None]\u001b[A\n",
      "t:  44% 105/241 [00:02<00:04, 27.44it/s, now=None]\u001b[A\n",
      "t:  45% 108/241 [00:02<00:04, 28.01it/s, now=None]\u001b[A\n",
      "t:  46% 112/241 [00:02<00:04, 28.69it/s, now=None]\u001b[A\n",
      "t:  48% 116/241 [00:02<00:04, 28.56it/s, now=None]\u001b[A\n",
      "t:  50% 120/241 [00:03<00:04, 28.90it/s, now=None]\u001b[A\n",
      "t:  51% 124/241 [00:03<00:04, 29.15it/s, now=None]\u001b[A\n",
      "t:  53% 128/241 [00:03<00:03, 28.61it/s, now=None]\u001b[A\n",
      "t:  54% 131/241 [00:03<00:03, 28.01it/s, now=None]\u001b[A\n",
      "t:  56% 135/241 [00:03<00:03, 28.04it/s, now=None]\u001b[A\n",
      "t:  58% 139/241 [00:03<00:03, 28.35it/s, now=None]\u001b[A\n",
      "t:  59% 143/241 [00:03<00:03, 28.26it/s, now=None]\u001b[A\n",
      "t:  61% 147/241 [00:03<00:03, 28.60it/s, now=None]\u001b[A\n",
      "t:  63% 151/241 [00:04<00:03, 28.58it/s, now=None]\u001b[A\n",
      "t:  64% 155/241 [00:04<00:03, 28.61it/s, now=None]\u001b[A\n",
      "t:  66% 159/241 [00:04<00:02, 29.27it/s, now=None]\u001b[A\n",
      "t:  68% 163/241 [00:04<00:02, 27.35it/s, now=None]\u001b[A\n",
      "t:  69% 167/241 [00:04<00:02, 28.04it/s, now=None]\u001b[A\n",
      "t:  71% 171/241 [00:04<00:02, 28.81it/s, now=None]\u001b[A\n",
      "t:  73% 175/241 [00:04<00:02, 29.25it/s, now=None]\u001b[A\n",
      "t:  74% 179/241 [00:05<00:02, 29.15it/s, now=None]\u001b[A\n",
      "t:  76% 183/241 [00:05<00:01, 29.54it/s, now=None]\u001b[A\n",
      "t:  78% 187/241 [00:05<00:01, 29.23it/s, now=None]\u001b[A\n",
      "t:  79% 191/241 [00:05<00:01, 29.17it/s, now=None]\u001b[A\n",
      "t:  81% 195/241 [00:05<00:01, 28.73it/s, now=None]\u001b[A\n",
      "t:  83% 199/241 [00:05<00:01, 28.34it/s, now=None]\u001b[A\n",
      "t:  84% 203/241 [00:05<00:01, 28.53it/s, now=None]\u001b[A\n",
      "t:  85% 206/241 [00:06<00:01, 27.87it/s, now=None]\u001b[A\n",
      "t:  87% 210/241 [00:06<00:01, 29.84it/s, now=None]\u001b[A\n",
      "t:  89% 214/241 [00:06<00:00, 29.82it/s, now=None]\u001b[A\n",
      "t:  90% 218/241 [00:06<00:00, 29.74it/s, now=None]\u001b[A\n",
      "t:  92% 221/241 [00:06<00:00, 29.65it/s, now=None]\u001b[A\n",
      "t:  93% 224/241 [00:06<00:00, 27.91it/s, now=None]\u001b[A\n",
      "t:  94% 227/241 [00:06<00:00, 28.18it/s, now=None]\u001b[A\n",
      "t:  96% 231/241 [00:06<00:00, 28.10it/s, now=None]\u001b[A\n",
      "t:  98% 235/241 [00:07<00:00, 27.11it/s, now=None]\u001b[A\n",
      "t:  99% 239/241 [00:07<00:00, 27.74it/s, now=None]\u001b[A\n",
      "Moviepy - Done !\n",
      "Moviepy - video ready video/a_zoom-in.mp4\n",
      "Moviepy - Building video video/a_circle.mp4.\n",
      "Moviepy - Writing video video/a_circle.mp4\n",
      "\n",
      "  0% 0/1 [04:20<?, ?it/s]\n",
      "t:   0% 0/241 [00:00<?, ?it/s, now=None]\u001b[A\n",
      "t:   5% 12/241 [00:00<00:02, 113.77it/s, now=None]\u001b[A\n",
      "t:  11% 26/241 [00:00<00:01, 120.36it/s, now=None]\u001b[A\n",
      "t:  16% 39/241 [00:00<00:01, 123.07it/s, now=None]\u001b[A\n",
      "t:  20% 48/241 [00:00<00:02, 64.49it/s, now=None] \u001b[A\n",
      "t:  23% 55/241 [00:00<00:04, 43.17it/s, now=None]\u001b[A\n",
      "t:  25% 61/241 [00:01<00:04, 36.43it/s, now=None]\u001b[A\n",
      "t:  27% 66/241 [00:01<00:05, 33.92it/s, now=None]\u001b[A\n",
      "t:  29% 71/241 [00:01<00:06, 27.50it/s, now=None]\u001b[A\n",
      "t:  31% 75/241 [00:01<00:06, 27.26it/s, now=None]\u001b[A\n",
      "t:  33% 79/241 [00:01<00:06, 27.00it/s, now=None]\u001b[A\n",
      "t:  34% 83/241 [00:02<00:06, 25.62it/s, now=None]\u001b[A\n",
      "t:  36% 87/241 [00:02<00:05, 26.05it/s, now=None]\u001b[A\n",
      "t:  38% 91/241 [00:02<00:06, 24.98it/s, now=None]\u001b[A\n",
      "t:  39% 94/241 [00:02<00:05, 24.90it/s, now=None]\u001b[A\n",
      "t:  40% 97/241 [00:02<00:06, 23.99it/s, now=None]\u001b[A\n",
      "t:  41% 100/241 [00:02<00:05, 24.51it/s, now=None]\u001b[A\n",
      "t:  43% 103/241 [00:02<00:05, 24.02it/s, now=None]\u001b[A\n",
      "t:  44% 106/241 [00:02<00:05, 24.43it/s, now=None]\u001b[A\n",
      "t:  45% 109/241 [00:03<00:05, 22.85it/s, now=None]\u001b[A\n",
      "t:  46% 112/241 [00:03<00:06, 21.11it/s, now=None]\u001b[A\n",
      "t:  48% 115/241 [00:03<00:05, 21.27it/s, now=None]\u001b[A\n",
      "t:  49% 119/241 [00:03<00:05, 22.28it/s, now=None]\u001b[A\n",
      "t:  51% 122/241 [00:03<00:05, 20.85it/s, now=None]\u001b[A\n",
      "t:  52% 126/241 [00:03<00:05, 21.78it/s, now=None]\u001b[A\n",
      "t:  54% 130/241 [00:04<00:04, 22.39it/s, now=None]\u001b[A\n",
      "t:  55% 133/241 [00:04<00:04, 22.94it/s, now=None]\u001b[A\n",
      "t:  56% 136/241 [00:04<00:04, 23.48it/s, now=None]\u001b[A\n",
      "t:  58% 139/241 [00:04<00:04, 22.86it/s, now=None]\u001b[A\n",
      "t:  59% 143/241 [00:04<00:04, 23.28it/s, now=None]\u001b[A\n",
      "t:  61% 147/241 [00:04<00:04, 23.40it/s, now=None]\u001b[A\n",
      "t:  62% 150/241 [00:04<00:03, 23.77it/s, now=None]\u001b[A\n",
      "t:  64% 154/241 [00:05<00:03, 24.07it/s, now=None]\u001b[A\n",
      "t:  65% 157/241 [00:05<00:03, 24.45it/s, now=None]\u001b[A\n",
      "t:  67% 161/241 [00:05<00:03, 25.29it/s, now=None]\u001b[A\n",
      "t:  68% 164/241 [00:05<00:03, 25.50it/s, now=None]\u001b[A\n",
      "t:  70% 168/241 [00:05<00:02, 26.41it/s, now=None]\u001b[A\n",
      "t:  71% 172/241 [00:05<00:02, 26.78it/s, now=None]\u001b[A\n",
      "t:  73% 175/241 [00:05<00:02, 27.01it/s, now=None]\u001b[A\n",
      "t:  74% 179/241 [00:05<00:02, 27.33it/s, now=None]\u001b[A\n",
      "t:  76% 183/241 [00:06<00:02, 26.57it/s, now=None]\u001b[A\n",
      "t:  78% 187/241 [00:06<00:02, 26.33it/s, now=None]\u001b[A\n",
      "t:  79% 191/241 [00:06<00:01, 26.40it/s, now=None]\u001b[A\n",
      "t:  80% 194/241 [00:06<00:01, 26.29it/s, now=None]\u001b[A\n",
      "t:  82% 197/241 [00:06<00:01, 26.19it/s, now=None]\u001b[A\n",
      "t:  83% 200/241 [00:06<00:01, 25.78it/s, now=None]\u001b[A\n",
      "t:  84% 203/241 [00:06<00:01, 26.12it/s, now=None]\u001b[A\n",
      "t:  85% 206/241 [00:07<00:01, 25.19it/s, now=None]\u001b[A\n",
      "t:  87% 210/241 [00:07<00:01, 27.90it/s, now=None]\u001b[A\n",
      "t:  88% 213/241 [00:07<00:01, 26.25it/s, now=None]\u001b[A\n",
      "t:  90% 216/241 [00:07<00:00, 25.71it/s, now=None]\u001b[A\n",
      "t:  91% 219/241 [00:07<00:00, 23.42it/s, now=None]\u001b[A\n",
      "t:  93% 223/241 [00:07<00:00, 24.60it/s, now=None]\u001b[A\n",
      "t:  94% 226/241 [00:07<00:00, 24.06it/s, now=None]\u001b[A\n",
      "t:  95% 229/241 [00:07<00:00, 24.86it/s, now=None]\u001b[A\n",
      "t:  96% 232/241 [00:08<00:00, 26.06it/s, now=None]\u001b[A\n",
      "t:  98% 235/241 [00:08<00:00, 25.65it/s, now=None]\u001b[A\n",
      "t:  99% 238/241 [00:08<00:00, 25.46it/s, now=None]\u001b[A\n",
      "t: 100% 241/241 [00:08<00:00, 25.95it/s, now=None]\u001b[A\n",
      "Moviepy - Done !\n",
      "Moviepy - video ready video/a_circle.mp4\n",
      "Moviepy - Building video video/a_swing.mp4.\n",
      "Moviepy - Writing video video/a_swing.mp4\n",
      "\n",
      "  0% 0/1 [04:39<?, ?it/s]\n",
      "t:   0% 0/241 [00:00<?, ?it/s, now=None]\u001b[A\n",
      "t:   4% 10/241 [00:00<00:02, 93.28it/s, now=None]\u001b[A\n",
      "t:  10% 24/241 [00:00<00:02, 103.46it/s, now=None]\u001b[A\n",
      "t:  15% 35/241 [00:00<00:01, 103.44it/s, now=None]\u001b[A\n",
      "t:  19% 46/241 [00:00<00:01, 103.31it/s, now=None]\u001b[A\n",
      "t:  23% 55/241 [00:00<00:03, 47.55it/s, now=None] \u001b[A\n",
      "t:  26% 62/241 [00:01<00:04, 36.64it/s, now=None]\u001b[A\n",
      "t:  28% 68/241 [00:01<00:04, 34.94it/s, now=None]\u001b[A\n",
      "t:  30% 73/241 [00:01<00:05, 29.36it/s, now=None]\u001b[A\n",
      "t:  32% 77/241 [00:01<00:05, 29.79it/s, now=None]\u001b[A\n",
      "t:  34% 81/241 [00:01<00:05, 27.72it/s, now=None]\u001b[A\n",
      "t:  35% 85/241 [00:02<00:05, 27.86it/s, now=None]\u001b[A\n",
      "t:  37% 89/241 [00:02<00:05, 25.60it/s, now=None]\u001b[A\n",
      "t:  38% 92/241 [00:02<00:05, 24.89it/s, now=None]\u001b[A\n",
      "t:  40% 96/241 [00:02<00:05, 25.32it/s, now=None]\u001b[A\n",
      "t:  41% 100/241 [00:02<00:05, 25.54it/s, now=None]\u001b[A\n",
      "t:  43% 103/241 [00:02<00:05, 25.35it/s, now=None]\u001b[A\n",
      "t:  44% 106/241 [00:02<00:05, 26.29it/s, now=None]\u001b[A\n",
      "t:  45% 109/241 [00:02<00:05, 26.05it/s, now=None]\u001b[A\n",
      "t:  46% 112/241 [00:03<00:05, 24.32it/s, now=None]\u001b[A\n",
      "t:  48% 116/241 [00:03<00:05, 24.47it/s, now=None]\u001b[A\n",
      "t:  50% 120/241 [00:03<00:04, 24.86it/s, now=None]\u001b[A\n",
      "t:  51% 124/241 [00:03<00:04, 25.73it/s, now=None]\u001b[A\n",
      "t:  53% 128/241 [00:03<00:04, 26.34it/s, now=None]\u001b[A\n",
      "t:  55% 132/241 [00:03<00:04, 26.39it/s, now=None]\u001b[A\n",
      "t:  56% 135/241 [00:03<00:04, 25.12it/s, now=None]\u001b[A\n",
      "t:  57% 138/241 [00:04<00:03, 26.03it/s, now=None]\u001b[A\n",
      "t:  59% 141/241 [00:04<00:03, 25.41it/s, now=None]\u001b[A\n",
      "t:  60% 144/241 [00:04<00:03, 25.02it/s, now=None]\u001b[A\n",
      "t:  61% 147/241 [00:04<00:03, 24.73it/s, now=None]\u001b[A\n",
      "t:  62% 150/241 [00:04<00:03, 25.55it/s, now=None]\u001b[A\n",
      "t:  64% 154/241 [00:04<00:03, 26.94it/s, now=None]\u001b[A\n",
      "t:  65% 157/241 [00:04<00:03, 25.85it/s, now=None]\u001b[A\n",
      "t:  67% 161/241 [00:04<00:02, 27.02it/s, now=None]\u001b[A\n",
      "t:  68% 165/241 [00:05<00:02, 26.35it/s, now=None]\u001b[A\n",
      "t:  70% 169/241 [00:05<00:02, 27.12it/s, now=None]\u001b[A\n",
      "t:  72% 173/241 [00:05<00:02, 29.22it/s, now=None]\u001b[A\n",
      "t:  73% 176/241 [00:05<00:02, 28.49it/s, now=None]\u001b[A\n",
      "t:  74% 179/241 [00:05<00:02, 28.82it/s, now=None]\u001b[A\n",
      "t:  76% 182/241 [00:05<00:02, 26.50it/s, now=None]\u001b[A\n",
      "t:  77% 186/241 [00:05<00:02, 25.74it/s, now=None]\u001b[A\n",
      "t:  79% 191/241 [00:06<00:01, 29.02it/s, now=None]\u001b[A\n",
      "t:  81% 195/241 [00:06<00:01, 26.01it/s, now=None]\u001b[A\n",
      "t:  82% 198/241 [00:06<00:01, 26.80it/s, now=None]\u001b[A\n",
      "t:  83% 201/241 [00:06<00:01, 24.91it/s, now=None]\u001b[A\n",
      "t:  85% 204/241 [00:06<00:01, 25.02it/s, now=None]\u001b[A\n",
      "t:  86% 208/241 [00:06<00:01, 25.58it/s, now=None]\u001b[A\n",
      "t:  88% 212/241 [00:06<00:01, 25.82it/s, now=None]\u001b[A\n",
      "t:  89% 215/241 [00:06<00:00, 26.31it/s, now=None]\u001b[A\n",
      "t:  91% 219/241 [00:07<00:00, 26.37it/s, now=None]\u001b[A\n",
      "t:  92% 222/241 [00:07<00:00, 26.49it/s, now=None]\u001b[A\n",
      "t:  93% 225/241 [00:07<00:00, 25.25it/s, now=None]\u001b[A\n",
      "t:  95% 228/241 [00:07<00:00, 25.83it/s, now=None]\u001b[A\n",
      "t:  96% 231/241 [00:07<00:00, 25.19it/s, now=None]\u001b[A\n",
      "t:  97% 234/241 [00:07<00:00, 24.03it/s, now=None]\u001b[A\n",
      "t:  99% 238/241 [00:07<00:00, 25.12it/s, now=None]\u001b[A\n",
      "Moviepy - Done !\n",
      "Moviepy - video ready video/a_swing.mp4\n",
      "100% 1/1 [04:49<00:00, 289.08s/it]\n"
     ]
    }
   ],
   "source": [
    "!python main.py --config argument.yml"
   ]
  }
 ],
 "metadata": {
  "accelerator": "GPU",
  "colab": {
   "name": "3d-main.ipynb",
   "provenance": []
  },
  "kernelspec": {
   "display_name": "Python 3",
   "language": "python",
   "name": "python3"
  },
  "language_info": {
   "codemirror_mode": {
    "name": "ipython",
    "version": 3
   },
   "file_extension": ".py",
   "mimetype": "text/x-python",
   "name": "python",
   "nbconvert_exporter": "python",
   "pygments_lexer": "ipython3",
   "version": "3.7.6"
  }
 },
 "nbformat": 4,
 "nbformat_minor": 1
}
